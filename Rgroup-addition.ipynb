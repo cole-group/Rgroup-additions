{
 "cells": [
  {
   "cell_type": "code",
   "execution_count": 52,
   "id": "3871ba4c",
   "metadata": {},
   "outputs": [],
   "source": [
    "# https://sourceforge.net/p/rdkit/mailman/message/34922663/ procedure extracted from this support request\n",
    "# https://pschmidtke.github.io/blog/rdkit/3d-editor/2021/01/23/grafting-fragments.html\n",
    "import rdkit\n",
    "from rdkit import Chem\n",
    "from rdkit.Chem.Draw import IPythonConsole\n",
    "from rdkit.Chem import Draw\n",
    "IPythonConsole.ipython_useSVG=True \n",
    "import py3Dmol\n",
    "from rdkit.Chem import AllChem\n",
    "import copy\n",
    "from rdkit.Chem.rdMolAlign import AlignMol"
   ]
  },
  {
   "cell_type": "code",
   "execution_count": 69,
   "id": "c374a48b",
   "metadata": {},
   "outputs": [
    {
     "name": "stdout",
     "output_type": "stream",
     "text": [
      "1 molecule converted\r\n",
      "43 audit log messages \r\n"
     ]
    }
   ],
   "source": [
    "# Protonate ligand\n",
    "# Note use of pH=7 to stop adding H atom to acid group\n",
    "\n",
    "!babel -isdf in.sdf -osdf in_h.sdf -h -p 7"
   ]
  },
  {
   "cell_type": "code",
   "execution_count": 70,
   "id": "fc68ef81",
   "metadata": {},
   "outputs": [
    {
     "data": {
      "text/plain": [
       "<rdkit.Chem.rdmolfiles.SDMolSupplier at 0x7f96ae759228>"
      ]
     },
     "execution_count": 70,
     "metadata": {},
     "output_type": "execute_result"
    }
   ],
   "source": [
    "suppl = Chem.SDMolSupplier('in_h.sdf',removeHs=False)\n",
    "suppl"
   ]
  },
  {
   "cell_type": "code",
   "execution_count": 55,
   "id": "0fdb1926",
   "metadata": {},
   "outputs": [
    {
     "data": {
      "application/3dmoljs_load.v0": "<div id=\"3dmolviewer_1630079918480833\"  style=\"position: relative; width: 300px; height: 300px\">\n        <p id=\"3dmolwarning_1630079918480833\" style=\"background-color:#ffcccc;color:black\">You appear to be running in JupyterLab (or JavaScript failed to load for some other reason).  You need to install the 3dmol extension: <br>\n        <tt>jupyter labextension install jupyterlab_3dmol</tt></p>\n        </div>\n<script>\n\nvar loadScriptAsync = function(uri){\n  return new Promise((resolve, reject) => {\n    var tag = document.createElement('script');\n    tag.src = uri;\n    tag.async = true;\n    tag.onload = () => {\n      resolve();\n    };\n  var firstScriptTag = document.getElementsByTagName('script')[0];\n  firstScriptTag.parentNode.insertBefore(tag, firstScriptTag);\n});\n};\n\nif(typeof $3Dmolpromise === 'undefined') {\n$3Dmolpromise = null;\n  $3Dmolpromise = loadScriptAsync('https://3dmol.csb.pitt.edu/build/3Dmol.js');\n}\n\nvar viewer_1630079918480833 = null;\nvar warn = document.getElementById(\"3dmolwarning_1630079918480833\");\nif(warn) {\n    warn.parentNode.removeChild(warn);\n}\n$3Dmolpromise.then(function() {\nviewer_1630079918480833 = $3Dmol.createViewer($(\"#3dmolviewer_1630079918480833\"),{backgroundColor:\"white\"});\n\tviewer_1630079918480833.addModel(\"HHT\\n     RDKit          3D\\n\\n 21 21  0  0  0  0  0  0  0  0999 V2000\\n   -0.7030   -7.8450  -26.4180 C   0  0  0  0  0  0  0  0  0  0  0  0\\n   -0.5090   -7.2420  -25.1910 C   0  0  0  0  0  0  0  0  0  0  0  0\\n   -0.5670   -7.9810  -24.0310 C   0  0  0  0  0  0  0  0  0  0  0  0\\n   -0.7830   -9.3430  -24.0590 C   0  0  0  0  0  0  0  0  0  0  0  0\\n   -0.7780  -10.1580  -22.8130 C   0  0  0  0  0  0  0  0  0  0  0  0\\n   -2.0880  -10.4300  -22.1220 C   0  0  0  0  0  0  0  0  0  0  0  0\\n   -1.0040   -9.2070  -26.4780 C   0  0  0  0  0  0  0  0  0  0  0  0\\n   -1.4110  -11.9670  -26.5110 C   0  0  0  0  0  0  0  0  0  0  0  0\\n   -1.2880  -11.2850  -25.2800 O   0  0  0  0  0  0  0  0  0  0  0  0\\n   -1.0080   -9.9600  -25.3270 C   0  0  0  0  0  0  0  0  0  0  0  0\\n   -0.5380   -6.8430  -27.9730 Br  0  0  0  0  0  0  0  0  0  0  0  0\\n   -2.0600  -11.2260  -21.1660 O   0  0  0  0  0  0  0  0  0  0  0  0\\n   -3.1080   -9.8300  -22.5030 O   0  0  0  0  0  0  0  0  0  0  0  0\\n   -0.3189   -6.2288  -25.1432 H   0  0  0  0  0  0  0  0  0  0  0  0\\n   -0.4465   -7.5066  -23.1225 H   0  0  0  0  0  0  0  0  0  0  0  0\\n   -0.1494   -9.6536  -22.1092 H   0  0  0  0  0  0  0  0  0  0  0  0\\n   -0.4487  -11.1237  -23.1353 H   0  0  0  0  0  0  0  0  0  0  0  0\\n   -1.2232   -9.6482  -27.3848 H   0  0  0  0  0  0  0  0  0  0  0  0\\n   -1.6313  -12.9978  -26.3272 H   0  0  0  0  0  0  0  0  0  0  0  0\\n   -0.4927  -11.8900  -27.0547 H   0  0  0  0  0  0  0  0  0  0  0  0\\n   -2.2022  -11.5298  -27.0835 H   0  0  0  0  0  0  0  0  0  0  0  0\\n  1  2  2  0\\n  1  7  1  0\\n  1 11  1  0\\n  2  3  1  0\\n  2 14  1  0\\n  3  4  2  0\\n  3 15  1  0\\n  4  5  1  0\\n  4 10  1  0\\n  5  6  1  0\\n  5 16  1  0\\n  5 17  1  0\\n  6 13  2  0\\n  6 12  1  0\\n  7 10  2  0\\n  7 18  1  0\\n  8  9  1  0\\n  8 19  1  0\\n  8 20  1  0\\n  8 21  1  0\\n  9 10  1  0\\nM  CHG  1  12  -1\\nM  END\\n\",\"mol\");\n\tviewer_1630079918480833.setStyle({\"stick\": {}});\n\tviewer_1630079918480833.zoomTo();\nviewer_1630079918480833.render();\n});\n</script>",
      "text/html": [
       "<div id=\"3dmolviewer_1630079918480833\"  style=\"position: relative; width: 300px; height: 300px\">\n",
       "        <p id=\"3dmolwarning_1630079918480833\" style=\"background-color:#ffcccc;color:black\">You appear to be running in JupyterLab (or JavaScript failed to load for some other reason).  You need to install the 3dmol extension: <br>\n",
       "        <tt>jupyter labextension install jupyterlab_3dmol</tt></p>\n",
       "        </div>\n",
       "<script>\n",
       "\n",
       "var loadScriptAsync = function(uri){\n",
       "  return new Promise((resolve, reject) => {\n",
       "    var tag = document.createElement('script');\n",
       "    tag.src = uri;\n",
       "    tag.async = true;\n",
       "    tag.onload = () => {\n",
       "      resolve();\n",
       "    };\n",
       "  var firstScriptTag = document.getElementsByTagName('script')[0];\n",
       "  firstScriptTag.parentNode.insertBefore(tag, firstScriptTag);\n",
       "});\n",
       "};\n",
       "\n",
       "if(typeof $3Dmolpromise === 'undefined') {\n",
       "$3Dmolpromise = null;\n",
       "  $3Dmolpromise = loadScriptAsync('https://3dmol.csb.pitt.edu/build/3Dmol.js');\n",
       "}\n",
       "\n",
       "var viewer_1630079918480833 = null;\n",
       "var warn = document.getElementById(\"3dmolwarning_1630079918480833\");\n",
       "if(warn) {\n",
       "    warn.parentNode.removeChild(warn);\n",
       "}\n",
       "$3Dmolpromise.then(function() {\n",
       "viewer_1630079918480833 = $3Dmol.createViewer($(\"#3dmolviewer_1630079918480833\"),{backgroundColor:\"white\"});\n",
       "\tviewer_1630079918480833.addModel(\"HHT\\n     RDKit          3D\\n\\n 21 21  0  0  0  0  0  0  0  0999 V2000\\n   -0.7030   -7.8450  -26.4180 C   0  0  0  0  0  0  0  0  0  0  0  0\\n   -0.5090   -7.2420  -25.1910 C   0  0  0  0  0  0  0  0  0  0  0  0\\n   -0.5670   -7.9810  -24.0310 C   0  0  0  0  0  0  0  0  0  0  0  0\\n   -0.7830   -9.3430  -24.0590 C   0  0  0  0  0  0  0  0  0  0  0  0\\n   -0.7780  -10.1580  -22.8130 C   0  0  0  0  0  0  0  0  0  0  0  0\\n   -2.0880  -10.4300  -22.1220 C   0  0  0  0  0  0  0  0  0  0  0  0\\n   -1.0040   -9.2070  -26.4780 C   0  0  0  0  0  0  0  0  0  0  0  0\\n   -1.4110  -11.9670  -26.5110 C   0  0  0  0  0  0  0  0  0  0  0  0\\n   -1.2880  -11.2850  -25.2800 O   0  0  0  0  0  0  0  0  0  0  0  0\\n   -1.0080   -9.9600  -25.3270 C   0  0  0  0  0  0  0  0  0  0  0  0\\n   -0.5380   -6.8430  -27.9730 Br  0  0  0  0  0  0  0  0  0  0  0  0\\n   -2.0600  -11.2260  -21.1660 O   0  0  0  0  0  0  0  0  0  0  0  0\\n   -3.1080   -9.8300  -22.5030 O   0  0  0  0  0  0  0  0  0  0  0  0\\n   -0.3189   -6.2288  -25.1432 H   0  0  0  0  0  0  0  0  0  0  0  0\\n   -0.4465   -7.5066  -23.1225 H   0  0  0  0  0  0  0  0  0  0  0  0\\n   -0.1494   -9.6536  -22.1092 H   0  0  0  0  0  0  0  0  0  0  0  0\\n   -0.4487  -11.1237  -23.1353 H   0  0  0  0  0  0  0  0  0  0  0  0\\n   -1.2232   -9.6482  -27.3848 H   0  0  0  0  0  0  0  0  0  0  0  0\\n   -1.6313  -12.9978  -26.3272 H   0  0  0  0  0  0  0  0  0  0  0  0\\n   -0.4927  -11.8900  -27.0547 H   0  0  0  0  0  0  0  0  0  0  0  0\\n   -2.2022  -11.5298  -27.0835 H   0  0  0  0  0  0  0  0  0  0  0  0\\n  1  2  2  0\\n  1  7  1  0\\n  1 11  1  0\\n  2  3  1  0\\n  2 14  1  0\\n  3  4  2  0\\n  3 15  1  0\\n  4  5  1  0\\n  4 10  1  0\\n  5  6  1  0\\n  5 16  1  0\\n  5 17  1  0\\n  6 13  2  0\\n  6 12  1  0\\n  7 10  2  0\\n  7 18  1  0\\n  8  9  1  0\\n  8 19  1  0\\n  8 20  1  0\\n  8 21  1  0\\n  9 10  1  0\\nM  CHG  1  12  -1\\nM  END\\n\",\"mol\");\n",
       "\tviewer_1630079918480833.setStyle({\"stick\": {}});\n",
       "\tviewer_1630079918480833.zoomTo();\n",
       "viewer_1630079918480833.render();\n",
       "});\n",
       "</script>"
      ]
     },
     "metadata": {},
     "output_type": "display_data"
    },
    {
     "data": {
      "text/plain": [
       "<py3Dmol.view at 0x7f96ae749630>"
      ]
     },
     "execution_count": 55,
     "metadata": {},
     "output_type": "execute_result"
    }
   ],
   "source": [
    "# Check 3D structure, and protonation\n",
    "\n",
    "for mol in suppl:\n",
    "    mblock = Chem.MolToMolBlock(mol)\n",
    "viewer = py3Dmol.view(width=300, height=300)\n",
    "viewer.addModel(mblock, 'mol')\n",
    "viewer.setStyle({\"stick\":{}})\n",
    "viewer.zoomTo()"
   ]
  },
  {
   "cell_type": "code",
   "execution_count": 71,
   "id": "3d71f951",
   "metadata": {
    "scrolled": true
   },
   "outputs": [
    {
     "data": {
      "image/png": "[encoded data removed]",
      "text/plain": [
       "<PIL.Image.Image image mode=RGBA size=300x300 at 0x7F96AE749828>"
      ]
     },
     "execution_count": 71,
     "metadata": {},
     "output_type": "execute_result"
    }
   ],
   "source": [
    "# Display atom numbers\n",
    "\n",
    "for atom in mol.GetAtoms():\n",
    "    atom.SetAtomMapNum(atom.GetIdx())\n",
    "mol2d=copy.deepcopy(mol)\n",
    "AllChem.Compute2DCoords(mol2d)    #do this on a copy here\n",
    "\n",
    "Draw.MolToImage(mol2d, includeAtomNumbers=True)"
   ]
  },
  {
   "cell_type": "code",
   "execution_count": 72,
   "id": "c122e128",
   "metadata": {},
   "outputs": [],
   "source": [
    "def getAttachmentVector(mol):\n",
    "    \"\"\" for a fragment to add, search for the position of \n",
    "    the attachment point and extract the atom id's of the \n",
    "    attachment point and the connected atom \n",
    "    (currently only single bond supported)\n",
    "    mol: fragment passed as rdkit molecule\n",
    "    return: tuple (atom indices)\n",
    "    \"\"\"\n",
    "\n",
    "    rindex=-1\n",
    "    rindexNeighbor=-1\n",
    "    for atom in mol.GetAtoms():\n",
    "        if(atom.GetAtomicNum()==0):\n",
    "            rindex=atom.GetIdx()\n",
    "            neighbours=atom.GetNeighbors()\n",
    "            if(len(neighbours)==1):\n",
    "                rindexNeighbor=neighbours[0].GetIdx()\n",
    "            else: \n",
    "                print(\"two attachment points not supported yet\")\n",
    "                return None\n",
    "    return((rindex,rindexNeighbor))"
   ]
  },
  {
   "cell_type": "code",
   "execution_count": 73,
   "id": "bad7b422",
   "metadata": {},
   "outputs": [
    {
     "name": "stdout",
     "output_type": "stream",
     "text": [
      "4 0\n"
     ]
    },
    {
     "data": {
      "application/3dmoljs_load.v0": "<div id=\"3dmolviewer_163008074869413\"  style=\"position: relative; width: 300px; height: 300px\">\n        <p id=\"3dmolwarning_163008074869413\" style=\"background-color:#ffcccc;color:black\">You appear to be running in JupyterLab (or JavaScript failed to load for some other reason).  You need to install the 3dmol extension: <br>\n        <tt>jupyter labextension install jupyterlab_3dmol</tt></p>\n        </div>\n<script>\n\nvar loadScriptAsync = function(uri){\n  return new Promise((resolve, reject) => {\n    var tag = document.createElement('script');\n    tag.src = uri;\n    tag.async = true;\n    tag.onload = () => {\n      resolve();\n    };\n  var firstScriptTag = document.getElementsByTagName('script')[0];\n  firstScriptTag.parentNode.insertBefore(tag, firstScriptTag);\n});\n};\n\nif(typeof $3Dmolpromise === 'undefined') {\n$3Dmolpromise = null;\n  $3Dmolpromise = loadScriptAsync('https://3dmol.csb.pitt.edu/build/3Dmol.js');\n}\n\nvar viewer_163008074869413 = null;\nvar warn = document.getElementById(\"3dmolwarning_163008074869413\");\nif(warn) {\n    warn.parentNode.removeChild(warn);\n}\n$3Dmolpromise.then(function() {\nviewer_163008074869413 = $3Dmol.createViewer($(\"#3dmolviewer_163008074869413\"),{backgroundColor:\"white\"});\n\tviewer_163008074869413.addModel(\"\\n     RDKit          3D\\n\\n  5  4  0  0  0  0  0  0  0  0999 V2000\\n   -1.1514    1.6360    0.0000 C   0  0  0  0  0  0  0  0  0  0  0  0\\n   -0.0814    1.6360    0.0000 H   0  0  0  0  0  0  0  0  0  0  0  0\\n   -1.5081    1.7965    0.9960 H   0  0  0  0  0  0  0  0  0  0  0  0\\n   -1.5081    0.6933   -0.3590 H   0  0  0  0  0  0  0  0  0  0  0  0\\n   -1.5081    2.4183   -0.6369 *   0  0  0  0  0  0  0  0  0  0  0  0\\n  1  2  1  0\\n  1  3  1  0\\n  1  4  1  0\\n  1  5  1  0\\nV    5 *\\nM  END\\n\",\"mol\");\n\tviewer_163008074869413.setStyle({\"stick\": {}});\n\tviewer_163008074869413.zoomTo();\nviewer_163008074869413.render();\n});\n</script>",
      "text/html": [
       "<div id=\"3dmolviewer_163008074869413\"  style=\"position: relative; width: 300px; height: 300px\">\n",
       "        <p id=\"3dmolwarning_163008074869413\" style=\"background-color:#ffcccc;color:black\">You appear to be running in JupyterLab (or JavaScript failed to load for some other reason).  You need to install the 3dmol extension: <br>\n",
       "        <tt>jupyter labextension install jupyterlab_3dmol</tt></p>\n",
       "        </div>\n",
       "<script>\n",
       "\n",
       "var loadScriptAsync = function(uri){\n",
       "  return new Promise((resolve, reject) => {\n",
       "    var tag = document.createElement('script');\n",
       "    tag.src = uri;\n",
       "    tag.async = true;\n",
       "    tag.onload = () => {\n",
       "      resolve();\n",
       "    };\n",
       "  var firstScriptTag = document.getElementsByTagName('script')[0];\n",
       "  firstScriptTag.parentNode.insertBefore(tag, firstScriptTag);\n",
       "});\n",
       "};\n",
       "\n",
       "if(typeof $3Dmolpromise === 'undefined') {\n",
       "$3Dmolpromise = null;\n",
       "  $3Dmolpromise = loadScriptAsync('https://3dmol.csb.pitt.edu/build/3Dmol.js');\n",
       "}\n",
       "\n",
       "var viewer_163008074869413 = null;\n",
       "var warn = document.getElementById(\"3dmolwarning_163008074869413\");\n",
       "if(warn) {\n",
       "    warn.parentNode.removeChild(warn);\n",
       "}\n",
       "$3Dmolpromise.then(function() {\n",
       "viewer_163008074869413 = $3Dmol.createViewer($(\"#3dmolviewer_163008074869413\"),{backgroundColor:\"white\"});\n",
       "\tviewer_163008074869413.addModel(\"\\n     RDKit          3D\\n\\n  5  4  0  0  0  0  0  0  0  0999 V2000\\n   -1.1514    1.6360    0.0000 C   0  0  0  0  0  0  0  0  0  0  0  0\\n   -0.0814    1.6360    0.0000 H   0  0  0  0  0  0  0  0  0  0  0  0\\n   -1.5081    1.7965    0.9960 H   0  0  0  0  0  0  0  0  0  0  0  0\\n   -1.5081    0.6933   -0.3590 H   0  0  0  0  0  0  0  0  0  0  0  0\\n   -1.5081    2.4183   -0.6369 *   0  0  0  0  0  0  0  0  0  0  0  0\\n  1  2  1  0\\n  1  3  1  0\\n  1  4  1  0\\n  1  5  1  0\\nV    5 *\\nM  END\\n\",\"mol\");\n",
       "\tviewer_163008074869413.setStyle({\"stick\": {}});\n",
       "\tviewer_163008074869413.zoomTo();\n",
       "viewer_163008074869413.render();\n",
       "});\n",
       "</script>"
      ]
     },
     "metadata": {},
     "output_type": "display_data"
    },
    {
     "data": {
      "text/plain": [
       "<py3Dmol.view at 0x7f96ae83e9e8>"
      ]
     },
     "execution_count": 73,
     "metadata": {},
     "output_type": "execute_result"
    }
   ],
   "source": [
    "# Tutorial suggest this library of fragments: \n",
    "# https://github.com/openchemistry/molecules\n",
    "# But for methane, I drew it in Avogadro and exported as mol file\n",
    "# Importantly, connection point can be defined by changing H to R\n",
    "# in element column.\n",
    "\n",
    "fragment=Chem.MolFromMolFile('methyl.mol',removeHs=False)\n",
    "ret=getAttachmentVector(fragment)\n",
    "\n",
    "for atom in mol.GetAtoms():\n",
    "    atom.SetAtomMapNum(atom.GetIdx())\n",
    "if(ret):\n",
    "    fragIndex1,fragIndex2=ret\n",
    "\n",
    "print(fragIndex1, fragIndex2)\n",
    "mblock = Chem.MolToMolBlock(fragment)\n",
    "viewer = py3Dmol.view(width=300, height=300)\n",
    "viewer.addModel(mblock, 'mol')\n",
    "viewer.setStyle({\"stick\":{}})\n",
    "viewer.zoomTo()"
   ]
  },
  {
   "cell_type": "code",
   "execution_count": 74,
   "id": "f804d177",
   "metadata": {},
   "outputs": [
    {
     "name": "stdout",
     "output_type": "stream",
     "text": [
      "5\n"
     ]
    }
   ],
   "source": [
    "fragment=Chem.MolFromMolFile('methyl.mol',removeHs=False)\n",
    "print(fragment.GetNumAtoms())"
   ]
  },
  {
   "cell_type": "code",
   "execution_count": 75,
   "id": "fc498c89",
   "metadata": {},
   "outputs": [
    {
     "name": "stdout",
     "output_type": "stream",
     "text": [
      "17 6\n"
     ]
    }
   ],
   "source": [
    "# Select atom index on parent to grow from\n",
    "# See atom numbering above\n",
    "\n",
    "queryAtomIndex=17\n",
    "\n",
    "atom=mol.GetAtomWithIdx(queryAtomIndex)\n",
    "neighbours=atom.GetNeighbors()\n",
    "if(len(neighbours)==1):\n",
    "    rindexNeighbor=neighbours[0].GetIdx()\n",
    "else: \n",
    "    print(\"two attachment points not supported yet\")\n",
    "    \n",
    "molIndex1=queryAtomIndex\n",
    "molIndex2=rindexNeighbor\n",
    "print(molIndex1,molIndex2)"
   ]
  },
  {
   "cell_type": "code",
   "execution_count": 76,
   "id": "8dce7505",
   "metadata": {},
   "outputs": [
    {
     "data": {
      "text/plain": [
       "0.019000616019482355"
      ]
     },
     "execution_count": 76,
     "metadata": {},
     "output_type": "execute_result"
    }
   ],
   "source": [
    "#important to specify the atomMap here, this aligns only the bonds\n",
    "\n",
    "AlignMol(fragment,mol,atomMap=((fragIndex2,molIndex1),(fragIndex1,molIndex2)))"
   ]
  },
  {
   "cell_type": "code",
   "execution_count": 77,
   "id": "23fbae2f",
   "metadata": {},
   "outputs": [
    {
     "data": {
      "application/3dmoljs_load.v0": "<div id=\"3dmolviewer_1630080802118668\"  style=\"position: relative; width: 500px; height: 500px\">\n        <p id=\"3dmolwarning_1630080802118668\" style=\"background-color:#ffcccc;color:black\">You appear to be running in JupyterLab (or JavaScript failed to load for some other reason).  You need to install the 3dmol extension: <br>\n        <tt>jupyter labextension install jupyterlab_3dmol</tt></p>\n        </div>\n<script>\n\nvar loadScriptAsync = function(uri){\n  return new Promise((resolve, reject) => {\n    var tag = document.createElement('script');\n    tag.src = uri;\n    tag.async = true;\n    tag.onload = () => {\n      resolve();\n    };\n  var firstScriptTag = document.getElementsByTagName('script')[0];\n  firstScriptTag.parentNode.insertBefore(tag, firstScriptTag);\n});\n};\n\nif(typeof $3Dmolpromise === 'undefined') {\n$3Dmolpromise = null;\n  $3Dmolpromise = loadScriptAsync('https://3dmol.csb.pitt.edu/build/3Dmol.js');\n}\n\nvar viewer_1630080802118668 = null;\nvar warn = document.getElementById(\"3dmolwarning_1630080802118668\");\nif(warn) {\n    warn.parentNode.removeChild(warn);\n}\n$3Dmolpromise.then(function() {\nviewer_1630080802118668 = $3Dmol.createViewer($(\"#3dmolviewer_1630080802118668\"),{backgroundColor:\"white\"});\n\tviewer_1630080802118668.addModel(\"HHT\\n     RDKit          3D\\n\\n 21 21  0  0  0  0  0  0  0  0999 V2000\\n   -0.7030   -7.8450  -26.4180 C   0  0  0  0  0  0  0  0  0  0  0  0\\n   -0.5090   -7.2420  -25.1910 C   0  0  0  0  0  0  0  0  0  1  0  0\\n   -0.5670   -7.9810  -24.0310 C   0  0  0  0  0  0  0  0  0  2  0  0\\n   -0.7830   -9.3430  -24.0590 C   0  0  0  0  0  0  0  0  0  3  0  0\\n   -0.7780  -10.1580  -22.8130 C   0  0  0  0  0  0  0  0  0  4  0  0\\n   -2.0880  -10.4300  -22.1220 C   0  0  0  0  0  0  0  0  0  5  0  0\\n   -1.0040   -9.2070  -26.4780 C   0  0  0  0  0  0  0  0  0  6  0  0\\n   -1.4110  -11.9670  -26.5110 C   0  0  0  0  0  0  0  0  0  7  0  0\\n   -1.2880  -11.2850  -25.2800 O   0  0  0  0  0  0  0  0  0  8  0  0\\n   -1.0080   -9.9600  -25.3270 C   0  0  0  0  0  0  0  0  0  9  0  0\\n   -0.5380   -6.8430  -27.9730 Br  0  0  0  0  0  0  0  0  0 10  0  0\\n   -2.0600  -11.2260  -21.1660 O   0  0  0  0  0  0  0  0  0 11  0  0\\n   -3.1080   -9.8300  -22.5030 O   0  0  0  0  0  0  0  0  0 12  0  0\\n   -0.3189   -6.2288  -25.1432 H   0  0  0  0  0  0  0  0  0 13  0  0\\n   -0.4465   -7.5066  -23.1225 H   0  0  0  0  0  0  0  0  0 14  0  0\\n   -0.1494   -9.6536  -22.1092 H   0  0  0  0  0  0  0  0  0 15  0  0\\n   -0.4487  -11.1237  -23.1353 H   0  0  0  0  0  0  0  0  0 16  0  0\\n   -1.2232   -9.6482  -27.3848 H   0  0  0  0  0  0  0  0  0 17  0  0\\n   -1.6313  -12.9978  -26.3272 H   0  0  0  0  0  0  0  0  0 18  0  0\\n   -0.4927  -11.8900  -27.0547 H   0  0  0  0  0  0  0  0  0 19  0  0\\n   -2.2022  -11.5298  -27.0835 H   0  0  0  0  0  0  0  0  0 20  0  0\\n  1  2  2  0\\n  1  7  1  0\\n  1 11  1  0\\n  2  3  1  0\\n  2 14  1  0\\n  3  4  2  0\\n  3 15  1  0\\n  4  5  1  0\\n  4 10  1  0\\n  5  6  1  0\\n  5 16  1  0\\n  5 17  1  0\\n  6 13  2  0\\n  6 12  1  0\\n  7 10  2  0\\n  7 18  1  0\\n  8  9  1  0\\n  8 19  1  0\\n  8 20  1  0\\n  8 21  1  0\\n  9 10  1  0\\nM  CHG  1  12  -1\\nM  END\\n\",\"mol\");\n\tviewer_1630080802118668.addModel(\"\\n     RDKit          3D\\n\\n  5  4  0  0  0  0  0  0  0  0999 V2000\\n   -1.2272   -9.6563  -27.4015 C   0  0  0  0  0  0  0  0  0  0  0  0\\n   -1.3951   -8.8969  -28.1364 H   0  0  0  0  0  0  0  0  0  0  0  0\\n   -0.4069  -10.2722  -27.7060 H   0  0  0  0  0  0  0  0  0  0  0  0\\n   -2.1069  -10.2573  -27.3023 H   0  0  0  0  0  0  0  0  0  0  0  0\\n   -1.0000   -9.1989  -26.4613 *   0  0  0  0  0  0  0  0  0  0  0  0\\n  1  2  1  0\\n  1  3  1  0\\n  1  4  1  0\\n  1  5  1  0\\nV    5 *\\nM  END\\n\",\"mol\");\n\tviewer_1630080802118668.setStyle({\"stick\": {}});\n\tviewer_1630080802118668.zoomTo();\nviewer_1630080802118668.render();\n});\n</script>",
      "text/html": [
       "<div id=\"3dmolviewer_1630080802118668\"  style=\"position: relative; width: 500px; height: 500px\">\n",
       "        <p id=\"3dmolwarning_1630080802118668\" style=\"background-color:#ffcccc;color:black\">You appear to be running in JupyterLab (or JavaScript failed to load for some other reason).  You need to install the 3dmol extension: <br>\n",
       "        <tt>jupyter labextension install jupyterlab_3dmol</tt></p>\n",
       "        </div>\n",
       "<script>\n",
       "\n",
       "var loadScriptAsync = function(uri){\n",
       "  return new Promise((resolve, reject) => {\n",
       "    var tag = document.createElement('script');\n",
       "    tag.src = uri;\n",
       "    tag.async = true;\n",
       "    tag.onload = () => {\n",
       "      resolve();\n",
       "    };\n",
       "  var firstScriptTag = document.getElementsByTagName('script')[0];\n",
       "  firstScriptTag.parentNode.insertBefore(tag, firstScriptTag);\n",
       "});\n",
       "};\n",
       "\n",
       "if(typeof $3Dmolpromise === 'undefined') {\n",
       "$3Dmolpromise = null;\n",
       "  $3Dmolpromise = loadScriptAsync('https://3dmol.csb.pitt.edu/build/3Dmol.js');\n",
       "}\n",
       "\n",
       "var viewer_1630080802118668 = null;\n",
       "var warn = document.getElementById(\"3dmolwarning_1630080802118668\");\n",
       "if(warn) {\n",
       "    warn.parentNode.removeChild(warn);\n",
       "}\n",
       "$3Dmolpromise.then(function() {\n",
       "viewer_1630080802118668 = $3Dmol.createViewer($(\"#3dmolviewer_1630080802118668\"),{backgroundColor:\"white\"});\n",
       "\tviewer_1630080802118668.addModel(\"HHT\\n     RDKit          3D\\n\\n 21 21  0  0  0  0  0  0  0  0999 V2000\\n   -0.7030   -7.8450  -26.4180 C   0  0  0  0  0  0  0  0  0  0  0  0\\n   -0.5090   -7.2420  -25.1910 C   0  0  0  0  0  0  0  0  0  1  0  0\\n   -0.5670   -7.9810  -24.0310 C   0  0  0  0  0  0  0  0  0  2  0  0\\n   -0.7830   -9.3430  -24.0590 C   0  0  0  0  0  0  0  0  0  3  0  0\\n   -0.7780  -10.1580  -22.8130 C   0  0  0  0  0  0  0  0  0  4  0  0\\n   -2.0880  -10.4300  -22.1220 C   0  0  0  0  0  0  0  0  0  5  0  0\\n   -1.0040   -9.2070  -26.4780 C   0  0  0  0  0  0  0  0  0  6  0  0\\n   -1.4110  -11.9670  -26.5110 C   0  0  0  0  0  0  0  0  0  7  0  0\\n   -1.2880  -11.2850  -25.2800 O   0  0  0  0  0  0  0  0  0  8  0  0\\n   -1.0080   -9.9600  -25.3270 C   0  0  0  0  0  0  0  0  0  9  0  0\\n   -0.5380   -6.8430  -27.9730 Br  0  0  0  0  0  0  0  0  0 10  0  0\\n   -2.0600  -11.2260  -21.1660 O   0  0  0  0  0  0  0  0  0 11  0  0\\n   -3.1080   -9.8300  -22.5030 O   0  0  0  0  0  0  0  0  0 12  0  0\\n   -0.3189   -6.2288  -25.1432 H   0  0  0  0  0  0  0  0  0 13  0  0\\n   -0.4465   -7.5066  -23.1225 H   0  0  0  0  0  0  0  0  0 14  0  0\\n   -0.1494   -9.6536  -22.1092 H   0  0  0  0  0  0  0  0  0 15  0  0\\n   -0.4487  -11.1237  -23.1353 H   0  0  0  0  0  0  0  0  0 16  0  0\\n   -1.2232   -9.6482  -27.3848 H   0  0  0  0  0  0  0  0  0 17  0  0\\n   -1.6313  -12.9978  -26.3272 H   0  0  0  0  0  0  0  0  0 18  0  0\\n   -0.4927  -11.8900  -27.0547 H   0  0  0  0  0  0  0  0  0 19  0  0\\n   -2.2022  -11.5298  -27.0835 H   0  0  0  0  0  0  0  0  0 20  0  0\\n  1  2  2  0\\n  1  7  1  0\\n  1 11  1  0\\n  2  3  1  0\\n  2 14  1  0\\n  3  4  2  0\\n  3 15  1  0\\n  4  5  1  0\\n  4 10  1  0\\n  5  6  1  0\\n  5 16  1  0\\n  5 17  1  0\\n  6 13  2  0\\n  6 12  1  0\\n  7 10  2  0\\n  7 18  1  0\\n  8  9  1  0\\n  8 19  1  0\\n  8 20  1  0\\n  8 21  1  0\\n  9 10  1  0\\nM  CHG  1  12  -1\\nM  END\\n\",\"mol\");\n",
       "\tviewer_1630080802118668.addModel(\"\\n     RDKit          3D\\n\\n  5  4  0  0  0  0  0  0  0  0999 V2000\\n   -1.2272   -9.6563  -27.4015 C   0  0  0  0  0  0  0  0  0  0  0  0\\n   -1.3951   -8.8969  -28.1364 H   0  0  0  0  0  0  0  0  0  0  0  0\\n   -0.4069  -10.2722  -27.7060 H   0  0  0  0  0  0  0  0  0  0  0  0\\n   -2.1069  -10.2573  -27.3023 H   0  0  0  0  0  0  0  0  0  0  0  0\\n   -1.0000   -9.1989  -26.4613 *   0  0  0  0  0  0  0  0  0  0  0  0\\n  1  2  1  0\\n  1  3  1  0\\n  1  4  1  0\\n  1  5  1  0\\nV    5 *\\nM  END\\n\",\"mol\");\n",
       "\tviewer_1630080802118668.setStyle({\"stick\": {}});\n",
       "\tviewer_1630080802118668.zoomTo();\n",
       "viewer_1630080802118668.render();\n",
       "});\n",
       "</script>"
      ]
     },
     "metadata": {},
     "output_type": "display_data"
    },
    {
     "data": {
      "text/plain": [
       "<py3Dmol.view at 0x7f96ae749940>"
      ]
     },
     "execution_count": 77,
     "metadata": {},
     "output_type": "execute_result"
    }
   ],
   "source": [
    "#the rest is just to display things here\n",
    "# Note that the C-C bond does not seem to be correct\n",
    "# but might be ok\n",
    "\n",
    "mblock = Chem.MolToMolBlock(mol)\n",
    "fragblock = Chem.MolToMolBlock(fragment)\n",
    "\n",
    "viewer = py3Dmol.view(width=500, height=500)\n",
    "viewer.addModel(mblock, 'mol')\n",
    "viewer.addModel(fragblock, 'mol')\n",
    "viewer.setStyle({\"stick\":{}})\n",
    "viewer.zoomTo()"
   ]
  },
  {
   "cell_type": "code",
   "execution_count": 85,
   "id": "6e4fcd40",
   "metadata": {},
   "outputs": [
    {
     "data": {
      "application/3dmoljs_load.v0": "<div id=\"3dmolviewer_16300812532121549\"  style=\"position: relative; width: 500px; height: 500px\">\n        <p id=\"3dmolwarning_16300812532121549\" style=\"background-color:#ffcccc;color:black\">You appear to be running in JupyterLab (or JavaScript failed to load for some other reason).  You need to install the 3dmol extension: <br>\n        <tt>jupyter labextension install jupyterlab_3dmol</tt></p>\n        </div>\n<script>\n\nvar loadScriptAsync = function(uri){\n  return new Promise((resolve, reject) => {\n    var tag = document.createElement('script');\n    tag.src = uri;\n    tag.async = true;\n    tag.onload = () => {\n      resolve();\n    };\n  var firstScriptTag = document.getElementsByTagName('script')[0];\n  firstScriptTag.parentNode.insertBefore(tag, firstScriptTag);\n});\n};\n\nif(typeof $3Dmolpromise === 'undefined') {\n$3Dmolpromise = null;\n  $3Dmolpromise = loadScriptAsync('https://3dmol.csb.pitt.edu/build/3Dmol.js');\n}\n\nvar viewer_16300812532121549 = null;\nvar warn = document.getElementById(\"3dmolwarning_16300812532121549\");\nif(warn) {\n    warn.parentNode.removeChild(warn);\n}\n$3Dmolpromise.then(function() {\nviewer_16300812532121549 = $3Dmol.createViewer($(\"#3dmolviewer_16300812532121549\"),{backgroundColor:\"white\"});\n\tviewer_16300812532121549.addModel(\"HHT\\n     RDKit          3D\\n\\n 24 24  0  0  0  0  0  0  0  0999 V2000\\n   -0.7030   -7.8450  -26.4180 C   0  0  0  0  0  0  0  0  0  0  0  0\\n   -0.5090   -7.2420  -25.1910 C   0  0  0  0  0  0  0  0  0  1  0  0\\n   -0.5670   -7.9810  -24.0310 C   0  0  0  0  0  0  0  0  0  2  0  0\\n   -0.7830   -9.3430  -24.0590 C   0  0  0  0  0  0  0  0  0  3  0  0\\n   -0.7780  -10.1580  -22.8130 C   0  0  0  0  0  0  0  0  0  4  0  0\\n   -2.0880  -10.4300  -22.1220 C   0  0  0  0  0  0  0  0  0  5  0  0\\n   -1.0040   -9.2070  -26.4780 C   0  0  0  0  0  0  0  0  0  6  0  0\\n   -1.4110  -11.9670  -26.5110 C   0  0  0  0  0  0  0  0  0  7  0  0\\n   -1.2880  -11.2850  -25.2800 O   0  0  0  0  0  0  0  0  0  8  0  0\\n   -1.0080   -9.9600  -25.3270 C   0  0  0  0  0  0  0  0  0  9  0  0\\n   -0.5380   -6.8430  -27.9730 Br  0  0  0  0  0  0  0  0  0 10  0  0\\n   -2.0600  -11.2260  -21.1660 O   0  0  0  0  0  0  0  0  0 11  0  0\\n   -3.1080   -9.8300  -22.5030 O   0  0  0  0  0  0  0  0  0 12  0  0\\n   -0.3189   -6.2288  -25.1432 H   0  0  0  0  0  0  0  0  0 13  0  0\\n   -0.4465   -7.5066  -23.1225 H   0  0  0  0  0  0  0  0  0 14  0  0\\n   -0.1494   -9.6536  -22.1092 H   0  0  0  0  0  0  0  0  0 15  0  0\\n   -0.4487  -11.1237  -23.1353 H   0  0  0  0  0  0  0  0  0 16  0  0\\n   -1.6313  -12.9978  -26.3272 H   0  0  0  0  0  0  0  0  0 18  0  0\\n   -0.4927  -11.8900  -27.0547 H   0  0  0  0  0  0  0  0  0 19  0  0\\n   -2.2022  -11.5298  -27.0835 H   0  0  0  0  0  0  0  0  0 20  0  0\\n   -1.2272   -9.6563  -27.4015 C   0  0  0  0  0  0  0  0  0  0  0  0\\n   -1.3951   -8.8969  -28.1364 H   0  0  0  0  0  0  0  0  0  0  0  0\\n   -0.4069  -10.2722  -27.7060 H   0  0  0  0  0  0  0  0  0  0  0  0\\n   -2.1069  -10.2573  -27.3023 H   0  0  0  0  0  0  0  0  0  0  0  0\\n  1  2  2  0\\n  1  7  1  0\\n  1 11  1  0\\n  2  3  1  0\\n  2 14  1  0\\n  3  4  2  0\\n  3 15  1  0\\n  4  5  1  0\\n  4 10  1  0\\n  5  6  1  0\\n  5 16  1  0\\n  5 17  1  0\\n  6 13  2  0\\n  6 12  1  0\\n  7 10  2  0\\n  8  9  1  0\\n  8 18  1  0\\n  8 19  1  0\\n  8 20  1  0\\n  9 10  1  0\\n 21 22  1  0\\n 21 23  1  0\\n 21 24  1  0\\n  7 21  1  0\\nM  CHG  1  12  -1\\nM  END\\n\",\"mol\");\n\tviewer_16300812532121549.setStyle({\"stick\": {}});\n\tviewer_16300812532121549.zoomTo();\nviewer_16300812532121549.render();\n});\n</script>",
      "text/html": [
       "<div id=\"3dmolviewer_16300812532121549\"  style=\"position: relative; width: 500px; height: 500px\">\n",
       "        <p id=\"3dmolwarning_16300812532121549\" style=\"background-color:#ffcccc;color:black\">You appear to be running in JupyterLab (or JavaScript failed to load for some other reason).  You need to install the 3dmol extension: <br>\n",
       "        <tt>jupyter labextension install jupyterlab_3dmol</tt></p>\n",
       "        </div>\n",
       "<script>\n",
       "\n",
       "var loadScriptAsync = function(uri){\n",
       "  return new Promise((resolve, reject) => {\n",
       "    var tag = document.createElement('script');\n",
       "    tag.src = uri;\n",
       "    tag.async = true;\n",
       "    tag.onload = () => {\n",
       "      resolve();\n",
       "    };\n",
       "  var firstScriptTag = document.getElementsByTagName('script')[0];\n",
       "  firstScriptTag.parentNode.insertBefore(tag, firstScriptTag);\n",
       "});\n",
       "};\n",
       "\n",
       "if(typeof $3Dmolpromise === 'undefined') {\n",
       "$3Dmolpromise = null;\n",
       "  $3Dmolpromise = loadScriptAsync('https://3dmol.csb.pitt.edu/build/3Dmol.js');\n",
       "}\n",
       "\n",
       "var viewer_16300812532121549 = null;\n",
       "var warn = document.getElementById(\"3dmolwarning_16300812532121549\");\n",
       "if(warn) {\n",
       "    warn.parentNode.removeChild(warn);\n",
       "}\n",
       "$3Dmolpromise.then(function() {\n",
       "viewer_16300812532121549 = $3Dmol.createViewer($(\"#3dmolviewer_16300812532121549\"),{backgroundColor:\"white\"});\n",
       "\tviewer_16300812532121549.addModel(\"HHT\\n     RDKit          3D\\n\\n 24 24  0  0  0  0  0  0  0  0999 V2000\\n   -0.7030   -7.8450  -26.4180 C   0  0  0  0  0  0  0  0  0  0  0  0\\n   -0.5090   -7.2420  -25.1910 C   0  0  0  0  0  0  0  0  0  1  0  0\\n   -0.5670   -7.9810  -24.0310 C   0  0  0  0  0  0  0  0  0  2  0  0\\n   -0.7830   -9.3430  -24.0590 C   0  0  0  0  0  0  0  0  0  3  0  0\\n   -0.7780  -10.1580  -22.8130 C   0  0  0  0  0  0  0  0  0  4  0  0\\n   -2.0880  -10.4300  -22.1220 C   0  0  0  0  0  0  0  0  0  5  0  0\\n   -1.0040   -9.2070  -26.4780 C   0  0  0  0  0  0  0  0  0  6  0  0\\n   -1.4110  -11.9670  -26.5110 C   0  0  0  0  0  0  0  0  0  7  0  0\\n   -1.2880  -11.2850  -25.2800 O   0  0  0  0  0  0  0  0  0  8  0  0\\n   -1.0080   -9.9600  -25.3270 C   0  0  0  0  0  0  0  0  0  9  0  0\\n   -0.5380   -6.8430  -27.9730 Br  0  0  0  0  0  0  0  0  0 10  0  0\\n   -2.0600  -11.2260  -21.1660 O   0  0  0  0  0  0  0  0  0 11  0  0\\n   -3.1080   -9.8300  -22.5030 O   0  0  0  0  0  0  0  0  0 12  0  0\\n   -0.3189   -6.2288  -25.1432 H   0  0  0  0  0  0  0  0  0 13  0  0\\n   -0.4465   -7.5066  -23.1225 H   0  0  0  0  0  0  0  0  0 14  0  0\\n   -0.1494   -9.6536  -22.1092 H   0  0  0  0  0  0  0  0  0 15  0  0\\n   -0.4487  -11.1237  -23.1353 H   0  0  0  0  0  0  0  0  0 16  0  0\\n   -1.6313  -12.9978  -26.3272 H   0  0  0  0  0  0  0  0  0 18  0  0\\n   -0.4927  -11.8900  -27.0547 H   0  0  0  0  0  0  0  0  0 19  0  0\\n   -2.2022  -11.5298  -27.0835 H   0  0  0  0  0  0  0  0  0 20  0  0\\n   -1.2272   -9.6563  -27.4015 C   0  0  0  0  0  0  0  0  0  0  0  0\\n   -1.3951   -8.8969  -28.1364 H   0  0  0  0  0  0  0  0  0  0  0  0\\n   -0.4069  -10.2722  -27.7060 H   0  0  0  0  0  0  0  0  0  0  0  0\\n   -2.1069  -10.2573  -27.3023 H   0  0  0  0  0  0  0  0  0  0  0  0\\n  1  2  2  0\\n  1  7  1  0\\n  1 11  1  0\\n  2  3  1  0\\n  2 14  1  0\\n  3  4  2  0\\n  3 15  1  0\\n  4  5  1  0\\n  4 10  1  0\\n  5  6  1  0\\n  5 16  1  0\\n  5 17  1  0\\n  6 13  2  0\\n  6 12  1  0\\n  7 10  2  0\\n  8  9  1  0\\n  8 18  1  0\\n  8 19  1  0\\n  8 20  1  0\\n  9 10  1  0\\n 21 22  1  0\\n 21 23  1  0\\n 21 24  1  0\\n  7 21  1  0\\nM  CHG  1  12  -1\\nM  END\\n\",\"mol\");\n",
       "\tviewer_16300812532121549.setStyle({\"stick\": {}});\n",
       "\tviewer_16300812532121549.zoomTo();\n",
       "viewer_16300812532121549.render();\n",
       "});\n",
       "</script>"
      ]
     },
     "metadata": {},
     "output_type": "display_data"
    },
    {
     "data": {
      "text/plain": [
       "<py3Dmol.view at 0x7f96ae854be0>"
      ]
     },
     "execution_count": 85,
     "metadata": {},
     "output_type": "execute_result"
    }
   ],
   "source": [
    "def connectMols(mol1, mol2, atom1, atom2):\n",
    "        \"\"\"function copied from here https://github.com/molecularsets/moses/blob/master/moses/baselines/combinatorial.py\"\"\"\n",
    "        combined = Chem.CombineMols(mol1, mol2)\n",
    "        emol = Chem.EditableMol(combined)\n",
    "        neighbor1_idx = atom1.GetNeighbors()[0].GetIdx()\n",
    "        neighbor2_idx = atom2.GetNeighbors()[0].GetIdx()\n",
    "        atom1_idx = atom1.GetIdx()\n",
    "        atom2_idx = atom2.GetIdx()\n",
    "        bond_order = atom2.GetBonds()[0].GetBondType()\n",
    "        emol.AddBond(neighbor1_idx,\n",
    "                     neighbor2_idx + mol1.GetNumAtoms(),\n",
    "                     order=bond_order)\n",
    "        emol.RemoveAtom(atom2_idx + mol1.GetNumAtoms())\n",
    "        emol.RemoveAtom(atom1_idx)\n",
    "        mol = emol.GetMol()\n",
    "        return mol \n",
    "\n",
    "finalMol=connectMols(mol,fragment,mol.GetAtomWithIdx(molIndex1),fragment.GetAtomWithIdx(fragIndex1))\n",
    "Chem.SanitizeMol(finalMol)\n",
    "finalMolBlock = Chem.MolToMolBlock(finalMol)\n",
    "\n",
    "viewer = py3Dmol.view(width=500, height=500)\n",
    "viewer.addModel(finalMolBlock, 'mol')\n",
    "viewer.setStyle({\"stick\":{}})\n",
    "viewer.zoomTo()"
   ]
  },
  {
   "cell_type": "code",
   "execution_count": 86,
   "id": "744dc328",
   "metadata": {},
   "outputs": [],
   "source": [
    "# write out final coordinates (maybe sdf will be better here)\n",
    "\n",
    "print(Chem.MolToMolBlock(finalMol),file=open('out.mol','w+'))"
   ]
  },
  {
   "cell_type": "code",
   "execution_count": null,
   "id": "8396b661",
   "metadata": {},
   "outputs": [],
   "source": []
  }
 ],
 "metadata": {
  "kernelspec": {
   "display_name": "teachopencadd",
   "language": "python",
   "name": "teachopencadd"
  },
  "language_info": {
   "codemirror_mode": {
    "name": "ipython",
    "version": 3
   },
   "file_extension": ".py",
   "mimetype": "text/x-python",
   "name": "python",
   "nbconvert_exporter": "python",
   "pygments_lexer": "ipython3",
   "version": "3.6.10"
  }
 },
 "nbformat": 4,
 "nbformat_minor": 5
}
